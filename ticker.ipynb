{
 "cells": [
  {
   "cell_type": "code",
   "execution_count": 2,
   "metadata": {},
   "outputs": [
    {
     "name": "stdout",
     "output_type": "stream",
     "text": [
      "Données récupérées avec succès\n",
      "Données enregistrées dans BTC-EUR_ticker.csv\n"
     ]
    }
   ],
   "source": [
    "# Importez les classes définies dans le dépôt\n",
    "from ticker import Ticker\n",
    "\n",
    "\n",
    "ticker= Ticker(\"BTC-EUR\")\n",
    "# Récupération des données historiques\n",
    "ticker.fetch_data(period = \"3mo\", interval=\"60m\")\n",
    "ticker.save_data()\n"
   ]
  }
 ],
 "metadata": {
  "kernelspec": {
   "display_name": "Python 3",
   "language": "python",
   "name": "python3"
  },
  "language_info": {
   "codemirror_mode": {
    "name": "ipython",
    "version": 3
   },
   "file_extension": ".py",
   "mimetype": "text/x-python",
   "name": "python",
   "nbconvert_exporter": "python",
   "pygments_lexer": "ipython3",
   "version": "3.12.1"
  }
 },
 "nbformat": 4,
 "nbformat_minor": 2
}
